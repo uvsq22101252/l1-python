{
 "cells": [
  {
   "cell_type": "markdown",
   "metadata": {},
   "source": [
    "# TD1 Représentation de nombres"
   ]
  },
  {
   "cell_type": "markdown",
   "metadata": {},
   "source": [
    "Exercice sur papier:\n",
    "\n",
    "1. Convertir en binaire le nombre 115 (division successive par 2).\n",
    "2. Donner la représentation de -115 en complément à 2 sur 8 bits.\n",
    "3. Donner la représentation de 12,625 comme un flottant. "
   ]
  },
  {
   "cell_type": "markdown",
   "metadata": {},
   "source": [
    "On représente un entier en binaire par une liste de 0 et de 1. Donner une fonction `conversionBase2(nombre)`\n",
    "qui transforme un entier en sa représentation binaire. Attention, les bits sont calculés dans l'ordre inverse\n",
    "(little endian), il faudra sans doute renverser la liste avec la méthode `.reverse()`."
   ]
  },
  {
   "cell_type": "code",
   "execution_count": 17,
   "metadata": {},
   "outputs": [
    {
     "data": {
      "text/plain": [
       "[1, 1, 1, 0, 0, 1, 1]"
      ]
     },
     "execution_count": 17,
     "metadata": {},
     "output_type": "execute_result"
    }
   ],
   "source": [
    "def conversionBase2(nombre):\n",
    "    if(nombre==0):\n",
    "        return [0]\n",
    "    res = []\n",
    "    #ajouter le code ici\n",
    "    while nombre > 0  :\n",
    "        division = nombre // 2\n",
    "        reste = nombre % 2 \n",
    "        nombre = division\n",
    "        res.append(reste)\n",
    "\n",
    "    res.reverse()\n",
    "    return res\n",
    "    \n",
    "conversionBase2(115)"
   ]
  },
  {
   "cell_type": "markdown",
   "metadata": {},
   "source": [
    "Faire une fonction d'affichage d'une liste représentant un nombre en binaire. Pour afficher avec `print` sans passer à la ligne il faut utiliser l'argument optionnel end=\"\"."
   ]
  },
  {
   "cell_type": "code",
   "execution_count": 18,
   "metadata": {},
   "outputs": [
    {
     "name": "stdout",
     "output_type": "stream",
     "text": [
      "1110011"
     ]
    }
   ],
   "source": [
    "def afficheBase(liste):\n",
    "    for i in liste :\n",
    "        print (i,end=\"\")\n",
    "\n",
    "afficheBase(conversionBase2(115))"
   ]
  },
  {
   "cell_type": "markdown",
   "metadata": {},
   "source": [
    "Convertir un nombre dans n'importe quelle base b (représentée comme une liste des chiffres dans cette base).\n",
    "Que faut-il changer dans `conversionBase2` pour gérer n'importe quelle base ?"
   ]
  },
  {
   "cell_type": "code",
   "execution_count": 24,
   "metadata": {},
   "outputs": [
    {
     "data": {
      "text/plain": [
       "[1, 1, 1, 0, 0, 1, 1]"
      ]
     },
     "execution_count": 24,
     "metadata": {},
     "output_type": "execute_result"
    }
   ],
   "source": [
    "def conversionBase(nombre,b):\n",
    "    if(nombre==0):\n",
    "        return [0]\n",
    "    res = []\n",
    "    while nombre > 0  :\n",
    "        division = nombre // b\n",
    "        reste = nombre % b\n",
    "        nombre = division\n",
    "        res.append(reste)\n",
    "\n",
    "    res.reverse()\n",
    "    return res\n",
    "    \n",
    "\n",
    "conversionBase(115,2)"
   ]
  },
  {
   "cell_type": "markdown",
   "metadata": {},
   "source": [
    "Quels sont les nombres entiers qu'on peut écrire avec n chiffres en base b ?"
   ]
  },
  {
   "cell_type": "markdown",
   "metadata": {},
   "source": [
    "Écrire une fonction d'affichage pour un nombre en Hexadécimal (en base 16).\n",
    "On rappelle que 10 doit être représenté par A, 11 par B ..."
   ]
  },
  {
   "cell_type": "code",
   "execution_count": 28,
   "metadata": {},
   "outputs": [
    {
     "name": "stdout",
     "output_type": "stream",
     "text": [
      "22B8"
     ]
    }
   ],
   "source": [
    "def afficheBaseHexa(liste):\n",
    "    for v in liste:\n",
    "        if(v == 10):\n",
    "            print('A',end=\"\")\n",
    "        elif(v == 11):\n",
    "            print('B',end=\"\")\n",
    "        elif(v == 12):\n",
    "            print('C',end=\"\")\n",
    "        elif(v == 13):\n",
    "            print('D',end=\"\")\n",
    "        elif(v == 14):\n",
    "            print('E',end=\"\")\n",
    "        elif(v == 15):\n",
    "            print('F',end=\"\")\n",
    "        else:\n",
    "            print(v,end=\"\")\n",
    "        \n",
    "       \n",
    "            \n",
    "afficheBaseHexa(conversionBase(8888,16))"
   ]
  },
  {
   "cell_type": "markdown",
   "metadata": {},
   "source": [
    "Donner la valeur de $(1001101)_2$ (dans la représentation traditionnelle en base 10).\n",
    "Écrire une fonction qui transforme la représentation en base b d'un entier en cet entier."
   ]
  },
  {
   "cell_type": "code",
   "execution_count": 36,
   "metadata": {},
   "outputs": [
    {
     "data": {
      "text/plain": [
       "115"
      ]
     },
     "execution_count": 36,
     "metadata": {},
     "output_type": "execute_result"
    }
   ],
   "source": [
    "def conversionEntier(liste,b):\n",
    "    res = 0\n",
    "    liste.reverse()\n",
    "    for i in range(len(liste)):\n",
    "        res+= liste[i]*(b**i)\n",
    "    \n",
    "    return res\n",
    "\n",
    "\n",
    "test = conversionBase(115,2)\n",
    "conversionEntier(test,2)"
   ]
  },
  {
   "cell_type": "code",
   "execution_count": 37,
   "metadata": {},
   "outputs": [
    {
     "data": {
      "text/plain": [
       "115"
      ]
     },
     "execution_count": 37,
     "metadata": {},
     "output_type": "execute_result"
    }
   ],
   "source": [
    "\n",
    "def conversionEntier(liste,b):\n",
    "    res = 0\n",
    "    for i in range(len(liste)):\n",
    "        res+= liste[-i-1]*(b**i)\n",
    "    \n",
    "    return res\n",
    "\n",
    "\n",
    "test = conversionBase(115,2)\n",
    "conversionEntier(test,2)"
   ]
  },
  {
   "cell_type": "markdown",
   "metadata": {},
   "source": [
    "Additioner $(10001101)_2$ et $(10111001)_2$ à la main. "
   ]
  },
  {
   "cell_type": "markdown",
   "metadata": {},
   "source": [
    "On a `l` un nombre en base b et on veut l'écrire sur n chiffres (en ajoutant des 0 devant). Donner une fonction pour réaliser cette transformation."
   ]
  },
  {
   "cell_type": "code",
   "execution_count": 42,
   "metadata": {},
   "outputs": [
    {
     "data": {
      "text/plain": [
       "[0, 0, 0, 0, 1, 1, 0, 0, 1, 1, 1]"
      ]
     },
     "execution_count": 42,
     "metadata": {},
     "output_type": "execute_result"
    }
   ],
   "source": [
    "def etendreEcriture(l,n):\n",
    "    taille_liste = len(l)\n",
    "    nbr_zero = n - taille_liste\n",
    "    for i in range (nbr_zero + 1):\n",
    "        l.append(0)\n",
    "\n",
    "    l.reverse()\n",
    "    return(l)\n",
    "\n",
    "test = [1, 1, 1, 0, 0, 1, 1]\n",
    "etendreEcriture(test,10)"
   ]
  },
  {
   "cell_type": "markdown",
   "metadata": {},
   "source": [
    "Réaliser ensuite un programme qui additionne la représentation en base b de deux entiers.\n",
    "On pourra utiliser la méthode `.insert(pos,val)` qui ajoute val à la position pos."
   ]
  },
  {
   "cell_type": "code",
   "execution_count": 48,
   "metadata": {},
   "outputs": [
    {
     "data": {
      "text/plain": [
       "[1, 1, 0, 0, 1]"
      ]
     },
     "execution_count": 48,
     "metadata": {},
     "output_type": "execute_result"
    }
   ],
   "source": [
    "\n",
    "#Algorithme d'addition du primaire\n",
    "\n",
    "def addition(l1,l2,b):\n",
    "    if(len(l1) > len(l2)):\n",
    "        l2 = etendreEcriture(l2,len(l1))\n",
    "    else:\n",
    "        l1 = etendreEcriture(l1,len(l2))\n",
    "    entier_1 = conversionEntier(l1,b)\n",
    "    entier_2 = conversionEntier(l2,b)\n",
    "    somme = entier_1 + entier_2\n",
    "    res = conversionBase(somme,b)\n",
    "    return res\n",
    "\n",
    "test1 = conversionBase(7,2)\n",
    "test2 = conversionBase(18,2)\n",
    "\n",
    "addition(test1,test2,2)"
   ]
  },
  {
   "cell_type": "code",
   "execution_count": 47,
   "metadata": {},
   "outputs": [
    {
     "data": {
      "text/plain": [
       "[1, 0, 0, 1, 0, 1, 1, 0, 0, 0]"
      ]
     },
     "execution_count": 47,
     "metadata": {},
     "output_type": "execute_result"
    }
   ],
   "source": [
    "def addition(l1,l2,b):\n",
    "    if(len(l1) > len(l2)):\n",
    "        l2 = etendreEcriture(l2,len(l1))\n",
    "    else:\n",
    "        l1 = etendreEcriture(l1,len(l2))\n",
    "    retenue = 0\n",
    "    res = []\n",
    "    t = len(l1)\n",
    "    \n",
    "\n",
    "    for i in range (t):\n",
    "        v=l1[-i-1]+l2[-i-1] + retenue\n",
    "        retenue = 0 \n",
    "        if v >=b :\n",
    "            retenue=1\n",
    "            v=v-b\n",
    "            res.insert(0,v)\n",
    "\n",
    "\n",
    "if retenue ==1 :\n",
    "    res.insert(0,1)\n",
    "return res "
   ]
  },
  {
   "cell_type": "code",
   "execution_count": null,
   "metadata": {},
   "outputs": [],
   "source": []
  }
 ],
 "metadata": {
  "kernelspec": {
   "display_name": "Python 3",
   "language": "python",
   "name": "python3"
  },
  "language_info": {
   "codemirror_mode": {
    "name": "ipython",
    "version": 3
   },
   "file_extension": ".py",
   "mimetype": "text/x-python",
   "name": "python",
   "nbconvert_exporter": "python",
   "pygments_lexer": "ipython3",
   "version": "3.9.7"
  }
 },
 "nbformat": 4,
 "nbformat_minor": 4
}
