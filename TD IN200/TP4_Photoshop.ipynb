{
 "cells": [
  {
   "cell_type": "markdown",
   "metadata": {},
   "source": [
    "# Petit Photoshop"
   ]
  },
  {
   "cell_type": "markdown",
   "metadata": {},
   "source": [
    "Importer les librairies suivantes :"
   ]
  },
  {
   "cell_type": "code",
   "execution_count": null,
   "metadata": {},
   "outputs": [],
   "source": [
    "import tkinter as tk\n",
    "import PIL as pil\n",
    "from PIL import Image\n",
    "from PIL import ImageTk \n",
    "from tkinter import filedialog\n",
    "from tkinter import simpledialog"
   ]
  },
  {
   "cell_type": "markdown",
   "metadata": {},
   "source": [
    "Ajouter une fonction `nbrCol(matrice)` qui retourne le nombre de colonnes d'une matrice \n",
    "et une fonction `nbrLig(matrice)` qui retourne le nombre de lignes d'une matrice"
   ]
  },
  {
   "cell_type": "code",
   "execution_count": 11,
   "metadata": {},
   "outputs": [],
   "source": [
    "def nbrCol(matrice):\n",
    "    return(len(matrice[0]))\n",
    "\n",
    "def nbrLig(matrice):\n",
    "    return len(matrice)"
   ]
  },
  {
   "cell_type": "markdown",
   "metadata": {},
   "source": [
    "Ajouter la fonction suivante à votre code, on ne demande pas de la comprendre en détail.\n",
    "Elle permet de stocker la matrice de pixels passée en paramètre `matPix` dans un fichier spécifié par `filename`."
   ]
  },
  {
   "cell_type": "code",
   "execution_count": 12,
   "metadata": {},
   "outputs": [],
   "source": [
    "def saving(matPix, filename):\n",
    "    toSave=pil.Image.new(\"RGBA\",(nbrCol(matPix),nbrLig(matPix)))\n",
    "    for i in range(nbrCol(matPix)):\n",
    "        for j in range(nbrLig(matPix)):\n",
    "            toSave.putpixel((i,j),matPix[j][i])\n",
    "    toSave.save(filename)"
   ]
  },
  {
   "cell_type": "markdown",
   "metadata": {},
   "source": [
    "Ajouter la fonction `loading` à votre code. Là non plus on ne demande pas de comprendre la fonction en détail.\n",
    "Elle prend une image en entrée et retourne une matrice de pixels."
   ]
  },
  {
   "cell_type": "code",
   "execution_count": 13,
   "metadata": {},
   "outputs": [],
   "source": [
    "def loading(filename):\n",
    "    toLoad=pil.Image.open(filename)\n",
    "    mat=[[(255,255,255,255)]*toLoad.size[0] for k in range(toLoad.size[1])]\n",
    "    for i in range(toLoad.size[1]):\n",
    "        for j in range(toLoad.size[0]):\n",
    "            mat[i][j]=toLoad.getpixel((j,i))\n",
    "    return mat"
   ]
  },
  {
   "cell_type": "markdown",
   "metadata": {},
   "source": [
    "Ajouter la fonction `charger` qui permet d'afficher une image dans un canevas dans la colonne 1 d'une grid."
   ]
  },
  {
   "cell_type": "code",
   "execution_count": 14,
   "metadata": {},
   "outputs": [],
   "source": [
    "create=True\n",
    "nomImgCourante=\"\"\n",
    "\n",
    "def charger(widg):\n",
    "    global create\n",
    "    global photo\n",
    "    global img\n",
    "    global canvas\n",
    "    global dessin\n",
    "    global nomImgCourante\n",
    "    filename= filedialog.askopenfile(mode='rb', title='Choose a file')\n",
    "    img = pil.Image.open(filename)\n",
    "    nomImgCourante=filename.name\n",
    "    photo = ImageTk.PhotoImage(img)\n",
    "    if create:    \n",
    "        canvas = tk.Canvas(widg, width = img.size[0], height = img.size[1])\n",
    "        dessin = canvas.create_image(0,0,anchor = tk.NW, image=photo)\n",
    "        canvas.grid(row=0,column=1,rowspan=4,columnspan=2)\n",
    "        create=False\n",
    "        \n",
    "    else:\n",
    "        canvas.grid_forget()\n",
    "        canvas = tk.Canvas(widg, width = img.size[0], height = img.size[1])\n",
    "        dessin=canvas.create_image(0,0,anchor = tk.NW, image=photo)\n",
    "        canvas.grid(row=0,column=1,rowspan=4,columnspan=2)"
   ]
  },
  {
   "cell_type": "markdown",
   "metadata": {},
   "source": [
    "Ajouter la fonction `modify(matrice)` qui permet de modifier une matrice de pixels au sein même d'un canevas créé par la methode `charger()`"
   ]
  },
  {
   "cell_type": "code",
   "execution_count": 15,
   "metadata": {},
   "outputs": [],
   "source": [
    "def modify(matrice):\n",
    "    global imgModif\n",
    "    global nomImgCourante\n",
    "    saving(matrice,\"modif.png\")\n",
    "    imgModif=ImageTk.PhotoImage(file=\"modif.png\")\n",
    "    canvas.itemconfigure(dessin, image=imgModif)\n",
    "    nomImgCourante=\"modif.png\""
   ]
  },
  {
   "cell_type": "markdown",
   "metadata": {},
   "source": [
    "Créez une fenêtre tkinter appelée \"Mon Petit Photoshop\", dans laquelle vous mettrez un bouton pour chacune des fonctions de traitement d'image que vous allez écrire. Vous mettrez églament un bouton pour *charger* une image, un bouton pour *quitter la fenêtre*. Vous ajouterez également un label contenant votre nom, prénom et numéro d'étudiant. Vous pourrez ajouter un bouton pour sauvegarder l'image, éventuellement sous un nouveau nom. ATTENTION : L'image est placée grâce à la méthode `grid` et elle couvre les colonnes 1 et 2 et les lignes 0,1,2 et 3."
   ]
  },
  {
   "cell_type": "markdown",
   "metadata": {},
   "source": [
    "Question Bonus : Mise en Page \n",
    "1. Vous placerez les boutons pour les fonctions de traitement d'image dans la colonne 0 d'une grid respectivement\n",
    "    aux lignes 0,1,2,3\n",
    "1. Le bouton `Charger` sera placé dans la colonne 0 dans la dernière ligne\n",
    "1. Le bouton `Quitter` sera placé dans la dernière colonne et la dernière ligne\n",
    "1. Le label sera placé juste sous l'image, entre les boutons `Charger` et `Quitter`\n",
    " \n",
    "Si tout fonctionne, regardez la doc tkinter pour rendre ça un peu plus \"joli\"."
   ]
  },
  {
   "cell_type": "code",
   "execution_count": 27,
   "metadata": {},
   "outputs": [],
   "source": [
    "create=True\n",
    "\n",
    "#Fonctions auxiliaires \n",
    "def fermer():\n",
    "    racine.destroy() \n",
    "racine= tk.Tk()\n",
    "racine.title(\"Photoshop\")\n",
    "\n",
    "#Création des Widgets\n",
    "bouton = tk.Button(text=\"Charger\", command= lambda :charger(racine))\n",
    "bouton_2 =tk.Button(text= \"quitter\", command= fermer)\n",
    "bouton_3 = tk.Button(text=(\"filtre vert\"), command= filtre_vert )\n",
    "bouton_4 = tk.Button(text=\"negatif\", command= negatif)\n",
    "bouton_5 = tk.Button(text=\"symetrie\", command= symetrique)\n",
    "bouton_6 = tk.Button(text=\"gris\", command=gris)\n",
    "bouton_7 = tk.Button(text=\"noir et blanc\",command= noirBlanc)\n",
    "bouton_8 = tk.Button(text=\"zoom\", command= zoom)\n",
    "bouton_9 = tk.Button(text=\"réduire\",command=shrink)\n",
    "bouton_10 = tk.Button(text=\"poster\",command=poster)\n",
    "bouton_11 = tk.Button(text=\"rotation droite\",command=rotatedroite)\n",
    "bouton_12 = tk.Button(text=\"rotation gauche\",command=rotategauche)\n",
    "bouton_13 = tk.Scale(from_=-255, to=255, orient=\"horizontal\")\n",
    "bouton_14 = tk.Button(text=\"luminosité\",command= lambda:luminosite(bouton_13.get()))\n",
    "#Positionnement des Widgets\n",
    "bouton.grid(column=0,row=10)\n",
    "bouton_2.grid(column=0, row=11)\n",
    "bouton_3.grid(column=0, row=0)\n",
    "bouton_4.grid(column=0, row=1)\n",
    "bouton_5.grid(column=0, row=2)\n",
    "bouton_6.grid(column=0, row=3)\n",
    "bouton_7.grid(column=0, row=4)\n",
    "bouton_8.grid(column=0, row=5)\n",
    "bouton_9.grid(column=0, row=6)\n",
    "bouton_10.grid(column=0, row=7)\n",
    "bouton_11.grid(column=0,row= 8)\n",
    "bouton_12.grid(column=0, row=9)\n",
    "bouton_13.grid(column=6, row=1)\n",
    "bouton_14.grid(column=6,row=2)\n",
    "#Lancement de la boucle \n",
    "racine.mainloop()"
   ]
  },
  {
   "cell_type": "markdown",
   "metadata": {},
   "source": [
    "Modifiez les fonctions du TD précédent pour qu'elles deviennent des fonctions callback qui s'appliquent directement sur l'image dans le canevas."
   ]
  },
  {
   "cell_type": "code",
   "execution_count": 17,
   "metadata": {},
   "outputs": [],
   "source": [
    "def filtre_vert():\n",
    "    mat=loading(nomImgCourante)\n",
    "    for i in range(nbrLig(mat)):\n",
    "        for j in range(nbrCol(mat)):\n",
    "            mat[i][j]=(0,mat[i][j][1],0,255)\n",
    "    modify(mat)\n",
    "            \n",
    "def negatif():\n",
    "    mat=loading(nomImgCourante)\n",
    "    for i in range(nbrLig(mat)):\n",
    "        for j in range(nbrCol(mat)):\n",
    "            mat[i][j]=(255-mat[i][j][0],255-mat[i][j][1],255-mat[i][j][2],255)\n",
    "    modify(mat)\n",
    "            \n",
    "def symetrique():\n",
    "    mat=loading(nomImgCourante)\n",
    "    matSym=[[(0,0,0,0)]*nbrCol(mat) for k in range(nbrLig(mat))]\n",
    "    for i in range(nbrLig(mat)):\n",
    "        for j in range(nbrCol(mat)):\n",
    "            matSym[i][nbrCol(mat)-1-j]=mat[i][j]\n",
    "    for i in range(nbrLig(mat)):\n",
    "        for j in range(nbrCol(mat)):\n",
    "            mat[i][j]=matSym[i][j]\n",
    "    modify(mat)"
   ]
  },
  {
   "cell_type": "markdown",
   "metadata": {},
   "source": [
    "Faire une fonction qui permet de transformer une image en couleur en une image en niveau de gris."
   ]
  },
  {
   "cell_type": "code",
   "execution_count": 18,
   "metadata": {},
   "outputs": [],
   "source": [
    "def gris():\n",
    "    #On utilisera la conversion CIE709 qui permet de calculer la teinte de gris qui va être affichée dans le pixel\n",
    "    #La teinte affichée est : gris=0,2125*rouge + 0,0721*bleu + 0,7154*vert\n",
    "    mat=loading(nomImgCourante)\n",
    "    for i in range(nbrLig(mat)):\n",
    "        for j in range(nbrCol(mat)):\n",
    "            rouge = mat[i][j][0]\n",
    "            vert = mat[i][j][1]\n",
    "            bleu = mat[i][j][2]\n",
    "            mat[i][j] = (int(0.2125*rouge), int(0.0721*bleu), int(0.7154*vert), 255)\n",
    "            # calcul de la teinte de gris du pixel (CIE709)\n",
    "    modify(mat)\n"
   ]
  },
  {
   "cell_type": "markdown",
   "metadata": {},
   "source": [
    "Faire une fonction qui permet de transformer une image en couleur en une image en noir et blanc."
   ]
  },
  {
   "cell_type": "code",
   "execution_count": 19,
   "metadata": {},
   "outputs": [],
   "source": [
    "def noirBlanc():\n",
    "    mat=loading(nomImgCourante)\n",
    "    for i in range(nbrLig(mat)):\n",
    "        for j in range(nbrCol(mat)):\n",
    "            rouge = mat[i][j][0]\n",
    "            vert = mat[i][j][1]\n",
    "            bleu = mat[i][j][2]\n",
    "            moyenne = (rouge + vert + bleu)//3\n",
    "            if moyenne > 127 :\n",
    "                mat[i][j] = (255 ,255 ,255)\n",
    "            else :\n",
    "                mat[i][j] =(0, 0, 0)\n",
    "            # un pixel est blanc quand sa luminosité est > à 127, noir sinon\n",
    "    modify(mat)"
   ]
  },
  {
   "cell_type": "markdown",
   "metadata": {},
   "source": [
    "Donner une fonction qui multiplie par 4 la définition d'une image (chaque pixel donne un carré de 4 pixels)."
   ]
  },
  {
   "cell_type": "code",
   "execution_count": 20,
   "metadata": {},
   "outputs": [],
   "source": [
    "def zoom():\n",
    "    mat=loading(nomImgCourante)\n",
    "    #créer une matrice de largeur et hauteur deux fois plus grande\n",
    "    mat_agrandie=[]\n",
    "    for i in range (nbrLig(mat)):\n",
    "        temp= []\n",
    "        for j in range (nbrCol(mat)):\n",
    "                temp.append(mat[i][j])\n",
    "                temp.append(mat[i][j])\n",
    "        mat_agrandie.append(temp)\n",
    "        mat_agrandie.append(temp)\n",
    "\n",
    "            \n",
    "            \n",
    "            \n",
    "            \n",
    "    modify(mat_agrandie)"
   ]
  },
  {
   "cell_type": "markdown",
   "metadata": {},
   "source": [
    "Donner une fonction qui divise par 4 la définition d'une image. Chaque carré de 4 pixels est remplacé par 1 pixel dont la valeur est la moyenne de ces 4 pixels."
   ]
  },
  {
   "cell_type": "code",
   "execution_count": 21,
   "metadata": {},
   "outputs": [],
   "source": [
    "def shrink():\n",
    "    mat=loading(nomImgCourante)\n",
    "    #créer une matrice de largeur et hauteur deux fois plus petite\n",
    "    nbr_l = nbrLig(mat)\n",
    "    nbr_c = nbrCol(mat)\n",
    "    mat_reduit =[[(0, 0, 0, 0)]*((nbr_c+1)//2) for i in range((nbr_l+1)//2)]\n",
    "    for i in range(nbrLig(mat_reduit)):\n",
    "        for j in range(nbrCol(mat_reduit)):\n",
    "            r = 0\n",
    "            g = 0\n",
    "            b = 0\n",
    "            for k in range(2):\n",
    "                if 2*(i+k) < nbr_l:\n",
    "                    for l in range(2):\n",
    "                        if 2*(j+l) <nbr_c:\n",
    "                            r+= mat[2*i+k][2*(j+l)][0]\n",
    "                            g+= mat[2*i+k][2*(j+l)][1]\n",
    "                            b+= mat[2*i+k][2*(j+l)][2]\n",
    "            mat_reduit[i][j] = (r//4, g//4, b//4, 255)\n",
    "            \n",
    "    modify(mat_reduit)"
   ]
  },
  {
   "cell_type": "markdown",
   "metadata": {},
   "source": [
    "Combiner les fonctions `zoom` et `shrink` pour obtenir un effet poster (effet de perte de résolution)."
   ]
  },
  {
   "cell_type": "code",
   "execution_count": 22,
   "metadata": {},
   "outputs": [],
   "source": [
    "def poster():\n",
    "    shrink()\n",
    "    zoom()\n",
    "\n",
    "    \n",
    "    modify(mat)"
   ]
  },
  {
   "cell_type": "markdown",
   "metadata": {},
   "source": [
    "Donner une fonction qui effectue une rotation d'une image vers la droite."
   ]
  },
  {
   "cell_type": "code",
   "execution_count": 23,
   "metadata": {},
   "outputs": [],
   "source": [
    "def rotatedroite():\n",
    "    mat=loading(nomImgCourante)\n",
    "    mat_rotate =[[(0,0,0,0)]*nbrLig(mat) for k in range(nbrCol(mat))]\n",
    "    \n",
    "\n",
    "    for i in range(nbrLig(mat_rotate)):\n",
    "        for j in range(nbrCol(mat_rotate)):\n",
    "            mat_rotate[i][j] = mat[nbrLig(mat)-1-j][i]\n",
    "    \n",
    "    \n",
    "    modify(mat_rotate)"
   ]
  },
  {
   "cell_type": "code",
   "execution_count": 24,
   "metadata": {},
   "outputs": [],
   "source": [
    "def rotategauche():\n",
    "    mat =loading(nomImgCourante)\n",
    "    mat_rotate =[[(0,0,0,0)]*nbrLig(mat) for k in range(nbrCol(mat))]\n",
    "    \n",
    "    for i in range(nbrLig(mat_rotate)):\n",
    "        for j in range(nbrCol(mat_rotate)):\n",
    "            mat_rotate[i][j] = mat[j][nbrCol(mat)-1-i]\n",
    "    modify(mat_rotate)\n"
   ]
  },
  {
   "cell_type": "code",
   "execution_count": 25,
   "metadata": {},
   "outputs": [],
   "source": [
    "def luminosite(val) :\n",
    "    mat =loading(nomImgCourante)\n",
    "    for i in range(nbrLig(mat)):\n",
    "        for j in range(nbrCol(mat)):\n",
    "            r=mat[i][j][0]\n",
    "            g=mat[i][j][1]\n",
    "            b=mat[i][j][2]\n",
    "            mat[i][j] =(r+val,g+val,b+val,255)\n",
    "    modify(mat)"
   ]
  },
  {
   "cell_type": "code",
   "execution_count": 26,
   "metadata": {},
   "outputs": [],
   "source": [
    "def flou():\n",
    "    mat =loading(nomImgCourante)\n",
    "    nbr_l = nbrLig\n",
    "    nbr_c = nbrCol\n",
    "    for i in range(nbrLig(mat)):\n",
    "        for j in range(nbrCol(mat)):\n",
    "            r_moy = mat[i][j][0]\n",
    "            g_moy = mat[i][j][1]\n",
    "            b_moy =mat[i][j][2]\n",
    "            for k in range (1,5):\n",
    "                if i-k >=0 :\n",
    "                    r_moy.append(mat[i-k][j][0])\n",
    "                    g_moy.append(mat[i-k][j][1])\n",
    "                    b_moy.append(mat[i-k][j][2])\n",
    "                if i+k < nbr_l:\n",
    "                    r_moy.append(mat[i+k][j][0])\n",
    "                    g_moy.append(mat[i+k][j][1])\n",
    "                    b_moy.append(mat[i+k][j][2])\n",
    "                if j-k >=0 :\n",
    "                    r_moy.append(mat[i][j-k][0])\n",
    "                    g_moy.append(mat[i][j-k][1])\n",
    "                    b_moy.append(mat[i][j-k][2])\n",
    "                if j+k < nbr_c :\n",
    "                    r_moy.append(mat[i][j+k][0])\n",
    "                    g_moy.append(mat[i][j+k][1])\n",
    "                    b_moy.append(mat[i][j+k][2])\n",
    "            mat[i][j] = (sum(r_moy)//len(r_moy),sum(g_moy)//len(g_moy),sum(b_moy)//len(b_moy), 255)"
   ]
  },
  {
   "cell_type": "markdown",
   "metadata": {},
   "source": [
    "Voici quelques fonctions que vous pouvez implémenter si vous en avez le temps:\n",
    "1. modification de la luminosité d'une image (avec un slider pour la sélection)\n",
    "1. flou de l'image, chaque pixel est remplacé par la moyenne de ses voisins et de lui-même\n",
    "1. bruitage de l'image, chaque pixel est modifié par une valeur aléatoire\n",
    "1. implémenter une méthode de dithering pour obtenir une image en noir et blanc plus subtile (au lieu de prendre un seuil\n",
    "à 127, on tire aléaoirement la valeur du pixel avec une probabilité qui dépend de sa luminosité)\n",
    "1. mode stylo, qui permet avec la souris d'écrire des pixels noirs sur l'image "
   ]
  }
 ],
 "metadata": {
  "kernelspec": {
   "display_name": "Python 3.9.7 ('l1-python')",
   "language": "python",
   "name": "python3"
  },
  "language_info": {
   "codemirror_mode": {
    "name": "ipython",
    "version": 3
   },
   "file_extension": ".py",
   "mimetype": "text/x-python",
   "name": "python",
   "nbconvert_exporter": "python",
   "pygments_lexer": "ipython3",
   "version": "3.9.7"
  },
  "vscode": {
   "interpreter": {
    "hash": "e14e1e55d8f7c705459a8773e232d0ab78a1f482dfc27377d500c009111ee3d9"
   }
  }
 },
 "nbformat": 4,
 "nbformat_minor": 4
}
