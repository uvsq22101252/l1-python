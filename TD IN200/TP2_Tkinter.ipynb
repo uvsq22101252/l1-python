{
 "cells": [
  {
   "cell_type": "markdown",
   "metadata": {},
   "source": [
    "Commencer par importer 'tkinter' et les librairies nécessaires à l'aide des commandes suivantes :"
   ]
  },
  {
   "cell_type": "code",
   "execution_count": null,
   "metadata": {},
   "outputs": [],
   "source": [
    "import tkinter as tk\n",
    "import PIL as pil\n",
    "from PIL import Image\n",
    "from PIL import ImageTk \n",
    "from tkinter import filedialog\n",
    "from tkinter import simpledialog"
   ]
  },
  {
   "cell_type": "markdown",
   "metadata": {},
   "source": [
    "Créer une fenêtre tkinter qui a pour titre \"Rappel du premier Semestre\" et qui affiche le texte \"J'adore Python !\" dans la fenêtre"
   ]
  },
  {
   "cell_type": "code",
   "execution_count": null,
   "metadata": {},
   "outputs": [],
   "source": [
    "import tkinter as tk\n",
    "import PIL as pil\n",
    "from PIL import Image\n",
    "from PIL import ImageTk \n",
    "from tkinter import filedialog\n",
    "from tkinter import simpledialog\n",
    "\n",
    "racine = tk.Tk()\n",
    "canvas = tk.Canvas(racine, height=500, width=500,bg=\"white\")\n",
    "canvas.grid(row=1,column=0)\n",
    "racine.title(\"Rappel du premier Semestre\")\n",
    "texte = tk.Label(racine,text=\"J'adore python!\", font=(\"helvetica\", \"30\"))\n",
    "texte.grid(column=0 , row=0)\n",
    "\n",
    "racine.mainloop()"
   ]
  },
  {
   "cell_type": "markdown",
   "metadata": {},
   "source": [
    "Toujours dans la même fenêtre, ajouter maintenant un bouton permettant de quitter la fenêtre, il faudra pour cela \n",
    "créer une fonction callback `fermer_fenetre` qui appelle la méthode `destroy()`"
   ]
  },
  {
   "cell_type": "code",
   "execution_count": null,
   "metadata": {},
   "outputs": [],
   "source": [
    "import tkinter as tk\n",
    "import PIL as pil\n",
    "from PIL import Image\n",
    "from PIL import ImageTk \n",
    "from tkinter import filedialog\n",
    "from tkinter import simpledialog\n",
    "#fonction\n",
    "def fermer_la_fenetre():\n",
    "    racine.destroy()\n",
    "\n",
    "\n",
    "racine = tk.Tk()\n",
    "canvas = tk.Canvas(racine, height=500, width=500,bg=\"white\")\n",
    "canvas.grid(row=1,column=0)\n",
    "racine.title(\"Rappel du premier Semestre\")\n",
    "texte = tk.Label(racine,text=\"J'adore python!\", font=(\"helvetica\", \"30\"))\n",
    "texte.grid(column=0 , row=0)\n",
    "bouton = tk.Button(racine,text=\"exit\", command=fermer_la_fenetre, font=(\"helvetica\", \"20\") )\n",
    "bouton.grid(column= 0,row= 2)\n",
    "racine.mainloop()"
   ]
  },
  {
   "cell_type": "markdown",
   "metadata": {},
   "source": [
    "Maintenant nous allons modifier la disposition des différents éléments en utilisant une grille pour positionner les éléments dans la fenêtre. Ajouter un canevas rouge à droite du label et du bouton."
   ]
  },
  {
   "cell_type": "code",
   "execution_count": null,
   "metadata": {},
   "outputs": [],
   "source": [
    "#Faire un canevas de taile 300x300 pour que ce soit lisible\n",
    "import tkinter as tk\n",
    "import PIL as pil\n",
    "from PIL import Image\n",
    "from PIL import ImageTk \n",
    "from tkinter import filedialog\n",
    "from tkinter import simpledialog\n",
    "#fonction\n",
    "def fermer_la_fenetre():\n",
    "    racine.destroy()\n",
    "\n",
    "\n",
    "racine = tk.Tk()\n",
    "canvas = tk.Canvas(racine, height=300, width=300,bg=\"red\")\n",
    "canvas.grid(row=0,column=2)\n",
    "racine.title(\"Rappel du premier Semestre\")\n",
    "texte = tk.Label(racine,text=\"J'adore python!\", font=(\"helvetica\", \"15\"))\n",
    "texte.grid(column=1 , row=0)\n",
    "bouton = tk.Button(racine,text=\"exit\", command=fermer_la_fenetre, font=(\"helvetica\", \"20\") )\n",
    "bouton.grid(column= 1,row= 2)\n",
    "racine.mainloop()"
   ]
  },
  {
   "cell_type": "markdown",
   "metadata": {},
   "source": [
    "Ajouter un canevas noir en dessous du canevas rouge précédent. Faire une fonction qui permet de compter le nombre de clics sur le carré rouge. Afficher cette valeur dans le label qui servait à afficher \"j'adore python\". Attention, le compteur du nombre de clics est appelé dans une fonction callback, il faut donc le récupérer en dehors de cette fonction en le déclarant comme variable globale. Utiliser la méthode `bind` pour récupérer le clic de souris."
   ]
  },
  {
   "cell_type": "code",
   "execution_count": null,
   "metadata": {},
   "outputs": [],
   "source": [
    "#Faire un canevas de taile 300x300 pour que ce soit lisible\n",
    "import tkinter as tk\n",
    "import PIL as pil\n",
    "from PIL import Image\n",
    "from PIL import ImageTk \n",
    "from tkinter import filedialog\n",
    "from tkinter import simpledialog\n",
    "#variable\n",
    "compte_red= 0 \n",
    "x= 0 \n",
    "y = 0\n",
    "#fonction\n",
    "def fermer_la_fenetre():\n",
    "    racine.destroy()\n",
    "\n",
    "def clique(event):\n",
    "    global compte_red\n",
    "    x= event.x\n",
    "    y= event.y\n",
    "    compte_red += 1\n",
    "    texte['text'] =(\"nombre de clique dans le carré rouge\", compte_red)\n",
    "\n",
    "racine = tk.Tk()\n",
    "canvas = tk.Canvas(racine, height=300, width=300,bg=\"red\")\n",
    "canvas.grid(row=0,column=2)\n",
    "canvas_2 = tk.Canvas(racine, height=300, width=300,bg=\"black\")\n",
    "canvas_2.grid(row=1,column=2)\n",
    "racine.title(\"Rappel du premier Semestre\")\n",
    "bouton = tk.Button(racine,text=\"exit\", command=fermer_la_fenetre, font=(\"helvetica\", \"20\") )\n",
    "bouton.grid(column= 1,row= 2)\n",
    "racine.bind(\"<Button-1>\",clique)\n",
    "texte = tk.Label(racine,text=(\"nombre de clique dans carré rouge\", compte_red), font=(\"helvetica\", \"20\"))\n",
    "texte.grid(column=1 , row=0)\n",
    "racine.mainloop()\n",
    "\n",
    "\n"
   ]
  },
  {
   "cell_type": "markdown",
   "metadata": {},
   "source": [
    "Créer une unique fonction qui renvoie la couleur du canevas sur lequel on a double-cliqué.\n",
    "Afficher la couleur à la place du compteur précédent."
   ]
  },
  {
   "cell_type": "code",
   "execution_count": null,
   "metadata": {},
   "outputs": [],
   "source": [
    "\n",
    "import tkinter as tk\n",
    "import PIL as pil\n",
    "from PIL import Image\n",
    "from PIL import ImageTk \n",
    "from tkinter import filedialog\n",
    "from tkinter import simpledialog\n",
    "#variable \n",
    "#fonction\n",
    "def fermer_la_fenetre():\n",
    "    racine.destroy()\n",
    "\n",
    "def couleur_carre(event):\n",
    "    if event.widget ==canvas :\n",
    "        texte['text'] =\"le carre clique est rouge\"\n",
    "    elif event.widget == canvas_2:\n",
    "       texte['text'] =\"le carre clique est noir\"\n",
    "racine = tk.Tk()\n",
    "canvas = tk.Canvas(racine, height=300, width=300,bg=\"red\")\n",
    "canvas.grid(row=0,column=2)\n",
    "canvas_2 = tk.Canvas(racine, height=300, width=300,bg=\"black\")\n",
    "canvas_2.grid(row=1,column=2)\n",
    "racine.title(\"Rappel du premier Semestre\")\n",
    "bouton = tk.Button(racine,text=\"exit\", command=fermer_la_fenetre, font=(\"helvetica\", \"20\") )\n",
    "bouton.grid(column= 1,row= 2)\n",
    "canvas.bind(\"<Button-1>\",couleur_carre)\n",
    "canvas_2.bind(\"<Button-1>\",couleur_carre)\n",
    "texte = tk.Label(racine,text=\" \", font=(\"helvetica\", \"20\"))\n",
    "texte.grid(column=1 , row=0)\n",
    "racine.mainloop()\n",
    "\n",
    "\n"
   ]
  },
  {
   "cell_type": "markdown",
   "metadata": {},
   "source": [
    "REMARQUE : Attention à ne pas mettre deux `bind` différents qui se déclenchent \n",
    "sur une même action sinon seul le dernier sera réalisé.\n",
    "En effet, la variable `event` va être modifiée deux fois et seule sa dernière modification sera donc prise en compte."
   ]
  },
  {
   "cell_type": "markdown",
   "metadata": {},
   "source": [
    "Créer une nouvelle fenêtre qui permet de charger une image depuis un fichier en utilisant la fonction `charger(widg)`. \n",
    "Vous allez devoir passer un paramètre dans la fonction callback `charger`. On ne demande pas de comprendre le fonctionnement de la fonction `charger`."
   ]
  },
  {
   "cell_type": "code",
   "execution_count": 4,
   "metadata": {},
   "outputs": [],
   "source": []
  },
  {
   "cell_type": "code",
   "execution_count": 1,
   "metadata": {},
   "outputs": [
    {
     "name": "stdout",
     "output_type": "stream",
     "text": [
      "pyimage1\n"
     ]
    }
   ],
   "source": [
    "import tkinter as tk\n",
    "import PIL as pil\n",
    "from PIL import Image\n",
    "from PIL import ImageTk \n",
    "from tkinter import filedialog\n",
    "from tkinter import simpledialog\n",
    "\n",
    "create=True\n",
    "\n",
    "def charger(widg):\n",
    "    global create\n",
    "    global photo\n",
    "    global img\n",
    "    global canvas\n",
    "    filename= filedialog.askopenfile(mode='rb', title='Choose a file')\n",
    "    img = pil.Image.open(filename)\n",
    "    photo = ImageTk.PhotoImage(img)\n",
    "    print(photo)\n",
    "    if create:    \n",
    "        canvas = tk.Canvas(widg, width = img.size[0], height = img.size[1])\n",
    "        canvas.create_image(0,0,anchor = tk.NW, image=photo)\n",
    "        canvas.pack()\n",
    "        create=False\n",
    "        \n",
    "    else:\n",
    "        canvas.pack_forget()\n",
    "        canvas = tk.Canvas(widg, width = img.size[0], height = img.size[1])\n",
    "        canvas.create_image(0,0,anchor = tk.NW, image=photo)\n",
    "        canvas.pack()\n",
    "\n",
    "racine= tk.Tk()\n",
    "bouton = tk.Button(racine,text=\"charger image\",command= lambda:charger(racine))\n",
    "bouton.pack()\n",
    "racine.mainloop()"
   ]
  },
  {
   "cell_type": "markdown",
   "metadata": {},
   "source": [
    "(Question supplémentaire) Faire une fenêtre qui :\n",
    "- Permet de taper dans une zone de texte\n",
    "- A un label d'affichage\n",
    "- A deux boutons, respectivement \"Bouton1\" et \"Bouton2\" permettant d'afficher dans le label le numéro du bouton sur lequel on a cliqué\n",
    "- A un dernier bouton qui permet d'afficher dans le label le texte tapé dans la zone de texte"
   ]
  },
  {
   "cell_type": "code",
   "execution_count": 17,
   "metadata": {},
   "outputs": [],
   "source": [
    "import tkinter as tk\n",
    "#variable\n",
    " \n",
    "#fonction\n",
    "def AfficheLabel(txt):\n",
    "    label.config(text=txt)\n",
    "\n",
    "\n",
    "racine = tk.Tk()\n",
    "label= tk.Label(racine,text=\"clique sur le bouton\")\n",
    "svEntry = tk.StringVar() #memoriser la chaine de caractere qui sera entre dans la zone de texte\n",
    "zone_de_texte = tk.Entry(racine, textvariable=svEntry)\n",
    "titre =racine.title(\"Le word du pauvre\")\n",
    "bouton_1 =tk.Button(text=\"bouton 1\",command= lambda x=1 :AfficheLabel(\"cliquesur le \"+str(x)))\n",
    "bouton_2 = tk.Button(text=\"bouton 2\", command= lambda x=2 :AfficheLabel(\"clique sur le \"+str(x)))\n",
    "bouton_3 = tk.Button(racine, text=\"bouton 3\",command= lambda x=svEntry : AfficheLabel(\"texte \"+x.get()))\n",
    "bouton_1.grid(column=1,row=1)\n",
    "bouton_2.grid(column=1,row=2)\n",
    "bouton_3.grid(column=2,row=2)\n",
    "label.grid(row=0, column=0,columnspan=3)\n",
    "zone_de_texte.grid(row= 1, columnspan= 3)\n",
    "\n",
    "\n",
    "\n",
    "\n",
    "racine.mainloop()\n",
    "\n"
   ]
  },
  {
   "cell_type": "code",
   "execution_count": null,
   "metadata": {},
   "outputs": [],
   "source": [
    "#solution sans lambda\n",
    "\n",
    "def bouton1():\n",
    "    label['text']=btn1['text']\n",
    "\n",
    "def bouton2():\n",
    "    label['text']=btn2['text']\n",
    "\n",
    "def affichagetext():\n",
    "    label['text']=svEntry.get()\n",
    "\n",
    "root =tk.Tk()\n",
    "label = tk.label(root,text=\"clic sur le bouton\")\n",
    "label.grid(row=0, column= 0,columnspam= 3)\n",
    "\n",
    "svEntry =tk.StringVar()\n",
    "edit = tk.Entry(root, textvariable= svEntry)\n",
    "edit.grid(row = 1,columnspan=3)\n",
    "\n",
    "btn1 =tk.Button(root, text=\"bouton\")\n",
    "btn2"
   ]
  }
 ],
 "metadata": {
  "kernelspec": {
   "display_name": "Python 3",
   "language": "python",
   "name": "python3"
  },
  "language_info": {
   "codemirror_mode": {
    "name": "ipython",
    "version": 3
   },
   "file_extension": ".py",
   "mimetype": "text/x-python",
   "name": "python",
   "nbconvert_exporter": "python",
   "pygments_lexer": "ipython3",
   "version": "3.9.7"
  }
 },
 "nbformat": 4,
 "nbformat_minor": 4
}
