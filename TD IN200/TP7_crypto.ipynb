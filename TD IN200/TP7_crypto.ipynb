{
 "cells": [
  {
   "cell_type": "markdown",
   "metadata": {},
   "source": [
    "# Cryptographie\n",
    "\n",
    "Nous allons programmer une interface pour chiffrer et déchiffrer un message à partir d'une clé secrète.\n",
    "Vous commencerez par créer l'interface graphique suivante : deux zones de saisies de texte `Entry`, pour récupérer\n",
    "le message à chiffrer et la clé, deux boutons pour chiffrer et déchiffrer et une zone de saisie pour afficher le résultat (et pouvoir copier le résultat). "
   ]
  },
  {
   "cell_type": "code",
   "execution_count": 57,
   "metadata": {},
   "outputs": [],
   "source": [
    "import tkinter as tk"
   ]
  },
  {
   "cell_type": "markdown",
   "metadata": {},
   "source": [
    "1. Créer une fonction `decalage(lettre_message,lettre_cle)` qui prend en argument deux caractères ASCII (en python chaine de caractères d'une lettre) et qui renvoie le décalage de la première lettre par la seconde. On rapelle que la fonction `ord(caractere)` donne le code (entier) de `caractere` et que la fonction `chr(code)` qui transforme le code en le caractère correspondant. Les codes ASCII sont sur 8 bits."
   ]
  },
  {
   "cell_type": "code",
   "execution_count": 58,
   "metadata": {},
   "outputs": [
    {
     "name": "stdout",
     "output_type": "stream",
     "text": [
      "Ã\n"
     ]
    }
   ],
   "source": [
    "def decalage(lettre_message,lettre_cle):\n",
    "    chiffrement = (ord(lettre_message) + ord(lettre_cle)  ) % (1<<8)\n",
    "    return chr(chiffrement)\n",
    "print(decalage(\"a\", \"b\"))\n",
    "    \n",
    "    "
   ]
  },
  {
   "cell_type": "markdown",
   "metadata": {},
   "source": [
    "2. Créer une fonction `chiffrer()` qui lit le message et la clé contenus dans les deux widgets `Entry` et \n",
    "applique lettre par lettre la fonction décalage. Si la clé est trop courte, elle est répétée cycliquement.\n",
    "Le résultat est affiché dans le widget `Entry` prévu à cet usage. \n",
    "Pour afficher dans un widget `Entry` qui s'appelle `entree`, il faut faire `entree.insert(0,texte)`\n",
    "et pour effacer le contenu du widget faire `entree.delete(0,tk.END)`. On fera une fonction qui effectuera le calcul et une fonction callback pour l'appliquer à nos textes en entrée."
   ]
  },
  {
   "cell_type": "code",
   "execution_count": 59,
   "metadata": {},
   "outputs": [],
   "source": [
    "def dec_texte(texte,cle):\n",
    "    taille_cle = len(cle)\n",
    "    liste = \"\"\n",
    "    for i in range (len(texte)):\n",
    "        liste += decalage(texte[i],cle[i% taille_cle])\n",
    "    return liste \n",
    "\n",
    "\n",
    "def chiffre():\n",
    "    erreur()\n",
    "    if erreur() == False :\n",
    "        chiffrement = dec_texte(entree_texte.get(), entree_cle.get())\n",
    "        resultat.delete(0, tk.END)\n",
    "        resultat.insert(0, chiffrement)\n"
   ]
  },
  {
   "cell_type": "markdown",
   "metadata": {},
   "source": [
    "3. Détecter si le message ou la clé est vide, pour afficher un message d'erreur."
   ]
  },
  {
   "cell_type": "code",
   "execution_count": 60,
   "metadata": {},
   "outputs": [],
   "source": [
    "def erreur() :\n",
    "    if not entree_texte.get() or not entree_cle.get():\n",
    "        resultat.delete(0, tk.END) \n",
    "        resultat.insert(0, \"le texte ou la clé est vide\")\n",
    "        return True\n",
    "    return False\n"
   ]
  },
  {
   "cell_type": "markdown",
   "metadata": {},
   "source": [
    "4. Créer une fonction `dechiffrer()` qui lit le message et la clé contenue dans les deux widgets `Entry` et déchiffre le message grâce à la clé. Le résultat est affiché dans le `Label` prévu à cet usage.\n",
    "En quoi l'opération est différente du chiffrement ?"
   ]
  },
  {
   "cell_type": "code",
   "execution_count": 61,
   "metadata": {},
   "outputs": [],
   "source": [
    "def dechiffre():\n",
    "    \n",
    "    cle = entree_cle.get()\n",
    "    inverse_cle = [chr(-ord(x)%(1<<8))for x in cle]\n",
    "    dechiffrement = dec_texte(entree_texte.get(), inverse_cle)\n",
    "    resultat.delete(0, tk.END)\n",
    "    resultat.insert(0, dechiffrement)\n",
    "    print(inverse_cle)\n",
    "    print(entree_texte.get())"
   ]
  },
  {
   "cell_type": "markdown",
   "metadata": {},
   "source": [
    "5. Tester votre programme en envoyant un message crypté à un de vos camarades et en lui donnant la clé à l'oral (par exemple votre prénom). Il doit être capable de retrouver le texte original."
   ]
  },
  {
   "cell_type": "markdown",
   "metadata": {},
   "source": [
    "6. Crypter un texte et cacher le dans une image avec le programme du TD précédent et envoyer le résultat à un camarade. Est-il capable de récupérer le message ?"
   ]
  },
  {
   "cell_type": "markdown",
   "metadata": {},
   "source": [
    "7. Au lieu de chiffrer caractère par caractère, on veut coder bit à bit en appliquant un XOR. \n",
    "Donner une nouvelle méthode `chiffre_xor(lettre_message,lettre_cle)` pour remplacer `decalage(lettre_message,lettre_cle)` et tester votre nouvelle méthode cryptage."
   ]
  },
  {
   "cell_type": "code",
   "execution_count": 77,
   "metadata": {},
   "outputs": [
    {
     "name": "stdout",
     "output_type": "stream",
     "text": [
      "\u0003\n"
     ]
    }
   ],
   "source": [
    "def chiffre_xor(lettre_message,lettre_cle):\n",
    "    chiffrement = ord(lettre_message) ^ ord(lettre_cle)\n",
    "    return chr(chiffrement)\n",
    "print(chiffre_xor(\"a\", \"b\"))\n",
    "\n",
    "def dec_texte2(texte,cle):\n",
    "    taille_cle = len(cle)\n",
    "    liste = \"\"\n",
    "    for i in range (len(texte)):\n",
    "        liste += chiffre_xor(texte[i],cle[i% taille_cle])\n",
    "    return liste \n",
    "\n",
    "\n",
    "def chiffre2():\n",
    "    erreur()\n",
    "    if erreur() == False :\n",
    "        chiffrement = dec_texte(entree_texte.get(), entree_cle.get())\n",
    "        resultat.delete(0, tk.END)\n",
    "        resultat.insert(0, chiffrement)"
   ]
  },
  {
   "cell_type": "code",
   "execution_count": 76,
   "metadata": {},
   "outputs": [
    {
     "name": "stdout",
     "output_type": "stream",
     "text": [
      "a\n"
     ]
    }
   ],
   "source": [
    "def dechiffre(lettre_message,lettre_cle):\n",
    "    dechiffrement = ord(lettre_message) ^ ord(lettre_cle)\n",
    "    return chr(dechiffrement)\n",
    "print(dechiffre(\"\u0003\",\"b\"))"
   ]
  },
  {
   "cell_type": "code",
   "execution_count": 63,
   "metadata": {},
   "outputs": [
    {
     "name": "stdout",
     "output_type": "stream",
     "text": [
      "['\\x9f', '\\x9e', '\\x9d']\n",
      "ÄÑØÄÑØ\n"
     ]
    }
   ],
   "source": [
    "racine=tk.Tk()\n",
    "racine.title(\"Cryptographie\")\n",
    "\n",
    "entree_texte = tk.Entry(racine, width = 50, font = (\"helvetica\", \"20\"))\n",
    "entree_texte.grid(row = 0, column = 0)\n",
    "\n",
    "entree_cle = tk.Entry(racine, width = 50, font = (\"helvetica\", \"20\"))\n",
    "entree_cle.grid(row = 1, column = 0)\n",
    "\n",
    "label_texte = tk.Label(racine,font = (\"helvetica\", \"20\"), text = \"Entrer le message ici.\")\n",
    "label_texte.grid(row = 0, column = 1)\n",
    "\n",
    "label_cle = tk.Label(racine,font = (\"helvetica\", \"20\"), text = \"Entrer la clé ici.\")\n",
    "label_cle.grid(row = 1, column = 1)\n",
    "\n",
    "bouton_coder=tk.Button(racine, text=\"Chiffrer texte\",fg=\"black\", width=15, command=chiffre)\n",
    "bouton_coder.grid(row=2, column=0)\n",
    "\n",
    "bouton_decoder=tk.Button(racine,text=\"Déchiffrer texte\",fg=\"black\",  width=15,command=dechiffre)\n",
    "bouton_decoder.grid(row=2, column=1)\n",
    "\n",
    "resultat=tk.Entry(racine,width = 50, font = (\"helvetica\", \"20\"))\n",
    "resultat.grid(row=3,column=0)\n",
    "\n",
    "\n",
    "racine.mainloop()"
   ]
  },
  {
   "cell_type": "code",
   "execution_count": null,
   "metadata": {},
   "outputs": [],
   "source": []
  }
 ],
 "metadata": {
  "kernelspec": {
   "display_name": "Python 3",
   "language": "python",
   "name": "python3"
  },
  "language_info": {
   "codemirror_mode": {
    "name": "ipython",
    "version": 3
   },
   "file_extension": ".py",
   "mimetype": "text/x-python",
   "name": "python",
   "nbconvert_exporter": "python",
   "pygments_lexer": "ipython3",
   "version": "3.9.7"
  }
 },
 "nbformat": 4,
 "nbformat_minor": 4
}
