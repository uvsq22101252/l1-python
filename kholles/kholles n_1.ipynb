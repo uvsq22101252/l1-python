{
 "cells": [
  {
   "cell_type": "code",
   "execution_count": 1,
   "metadata": {},
   "outputs": [
    {
     "name": "stdout",
     "output_type": "stream",
     "text": [
      "<class 'float'>\n"
     ]
    }
   ],
   "source": [
    "print(type(5/8))\n",
    "#l 'expression print(type(5/8)) va afficher le type de la divisions de 5/8 qui est égal a 0.625\n",
    "# et fait partie de la catégorie des nombres flotants\n"
   ]
  },
  {
   "cell_type": "code",
   "execution_count": 6,
   "metadata": {},
   "outputs": [
    {
     "name": "stdout",
     "output_type": "stream",
     "text": [
      "je reste au lit tout le week end \n"
     ]
    }
   ],
   "source": [
    "meteo_samedi = int(input(\"quelle temps fait'il samedi ? soleil = 0 et pluie = 1\"))\n",
    "meteo_dimanche = int(input(\"quelle temps fait' il dimanche ?soleil = 0 et pluie = 1\"))\n",
    "\n",
    "if meteo_samedi == 0 and meteo_dimanche == 0 :\n",
    "    print(\"je vais me promnener\")\n",
    "else : \n",
    "    print(\"je reste au lit tout le week end \")"
   ]
  },
  {
   "cell_type": "code",
   "execution_count": 26,
   "metadata": {},
   "outputs": [
    {
     "name": "stdout",
     "output_type": "stream",
     "text": [
      "150\n"
     ]
    }
   ],
   "source": [
    "compte = 0\n",
    "ajout = 0\n",
    "n = int(input(\"ecricre l'age de l'enfant\"))\n",
    "for i in range(0 , n+1 ) :\n",
    "    ajout =  compte + (3 * i)\n",
    "    compte = ajout\n",
    "\n",
    "print(compte)"
   ]
  }
 ],
 "metadata": {
  "interpreter": {
   "hash": "6d567dfd69a1a83b39a791dc85aec464c9c8e29306a9984e54204631ace55bfd"
  },
  "kernelspec": {
   "display_name": "Python 3.9.7 64-bit ('l1-python': conda)",
   "name": "python3"
  },
  "language_info": {
   "codemirror_mode": {
    "name": "ipython",
    "version": 3
   },
   "file_extension": ".py",
   "mimetype": "text/x-python",
   "name": "python",
   "nbconvert_exporter": "python",
   "pygments_lexer": "ipython3",
   "version": "3.9.7"
  },
  "orig_nbformat": 4
 },
 "nbformat": 4,
 "nbformat_minor": 2
}
